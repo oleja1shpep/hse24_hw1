{
 "cells": [
  {
   "cell_type": "markdown",
   "metadata": {},
   "source": [
    "### Код делающий анализ контигов и скаффолдов (общее кол-во контигов, их общая длина, длина самого длинного контига, N50)"
   ]
  },
  {
   "cell_type": "code",
   "execution_count": 5,
   "metadata": {},
   "outputs": [],
   "source": [
    "def calculate_N50(lengths):\n",
    "    lengths.sort(reverse=True)\n",
    "    total_length = sum(lengths)\n",
    "    summ = 0\n",
    "    for length in lengths:\n",
    "        summ += length\n",
    "        if summ >= total_length / 2:\n",
    "            return length\n",
    "\n",
    "\n",
    "\n",
    "def analyze(filename):\n",
    "    f = open(filename, \"r\")\n",
    "    lengths = []\n",
    "    for line in f.readlines():\n",
    "        if line[0] == \">\":\n",
    "            length = int(line.split(\"_\")[1][3:])\n",
    "            lengths.append(length)\n",
    "    \n",
    "    if filename.count(\"contig\"):\n",
    "        print(f\"Общее число контигов: {len(lengths)}\")\n",
    "        print(f\"Их общая длина: {sum(lengths)}\")\n",
    "        print(f\"Длина самого длинного контига: {max(lengths)}\")\n",
    "    else:\n",
    "        print(f\"Общее число скаффолдов: {len(lengths)}\")\n",
    "        print(f\"Их общая длина: {sum(lengths)}\")\n",
    "        print(f\"Длина самого длинного скаффолда: {max(lengths)}\")\n",
    "    print(f\"N50: {calculate_N50(lengths)}\")\n",
    "    f.close()"
   ]
  },
  {
   "cell_type": "code",
   "execution_count": 6,
   "metadata": {},
   "outputs": [
    {
     "name": "stdout",
     "output_type": "stream",
     "text": [
      "Общее число контигов: 614\n",
      "Их общая длина: 3925660\n",
      "Длина самого длинного контига: 179307\n",
      "N50: 50620\n"
     ]
    }
   ],
   "source": [
    "analyze(\"PE_contig.fa\")"
   ]
  },
  {
   "cell_type": "code",
   "execution_count": 7,
   "metadata": {},
   "outputs": [
    {
     "name": "stdout",
     "output_type": "stream",
     "text": [
      "Общее число скаффолдов: 71\n",
      "Их общая длина: 3873372\n",
      "Длина самого длинного скаффолда: 3831332\n",
      "N50: 3831332\n"
     ]
    }
   ],
   "source": [
    "analyze(\"out_scaffold.fa\")"
   ]
  },
  {
   "cell_type": "markdown",
   "metadata": {},
   "source": [
    "### Код считающий гэпы в самом длинном скаффолде"
   ]
  },
  {
   "cell_type": "code",
   "execution_count": 8,
   "metadata": {},
   "outputs": [],
   "source": [
    "from Bio import SeqIO\n",
    "\n",
    "def find_gaps(filename):\n",
    "    scaff = ''\n",
    "    for scaffold in SeqIO.parse(filename, 'fasta'):\n",
    "        if len(scaffold.seq) > len(scaff):\n",
    "            scaff = str(scaffold.seq)\n",
    "        \n",
    "    if filename == \"out_gapClosed.fa\":\n",
    "        f = open(\"longest.fasta\", \"w\")\n",
    "        f.write(scaff)\n",
    "        f.close()\n",
    "        \n",
    "    scaff += \"#\"\n",
    "    left = 0\n",
    "    right = 0\n",
    "    count = 0\n",
    "    summ = 0\n",
    "    while right < len(scaff):\n",
    "        if scaff[right] != \"N\":\n",
    "            length = right - left\n",
    "            summ += length\n",
    "            if length != 0:\n",
    "                count += 1\n",
    "            left = right + 1\n",
    "        right += 1\n",
    "    print(f\"Количество гэпов: {count}\")\n",
    "    print(f\"Общая длина: {summ}\")\n"
   ]
  },
  {
   "cell_type": "markdown",
   "metadata": {},
   "source": [
    "Скаффолд до уменьшения гэпов"
   ]
  },
  {
   "cell_type": "code",
   "execution_count": 9,
   "metadata": {},
   "outputs": [
    {
     "name": "stdout",
     "output_type": "stream",
     "text": [
      "Количество гэпов: 59\n",
      "Общая длина: 5475\n"
     ]
    }
   ],
   "source": [
    "find_gaps(\"out_scaffold.fa\")"
   ]
  },
  {
   "cell_type": "markdown",
   "metadata": {},
   "source": [
    "Скаффолд после уменьшения гэпов"
   ]
  },
  {
   "cell_type": "code",
   "execution_count": 10,
   "metadata": {},
   "outputs": [
    {
     "name": "stdout",
     "output_type": "stream",
     "text": [
      "Количество гэпов: 7\n",
      "Общая длина: 1246\n"
     ]
    }
   ],
   "source": [
    "find_gaps(\"out_gapClosed.fa\")"
   ]
  }
 ],
 "metadata": {
  "kernelspec": {
   "display_name": "Python 3",
   "language": "python",
   "name": "python3"
  },
  "language_info": {
   "codemirror_mode": {
    "name": "ipython",
    "version": 3
   },
   "file_extension": ".py",
   "mimetype": "text/x-python",
   "name": "python",
   "nbconvert_exporter": "python",
   "pygments_lexer": "ipython3",
   "version": "3.10.12"
  }
 },
 "nbformat": 4,
 "nbformat_minor": 2
}
